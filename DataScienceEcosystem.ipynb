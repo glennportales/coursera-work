{
 "cells": [
  {
   "cell_type": "markdown",
   "id": "9a570ce1-a6cb-4fa4-b6f3-0cab0310c18e",
   "metadata": {},
   "source": [
    "# Data Science Tools and Ecosystem"
   ]
  },
  {
   "cell_type": "markdown",
   "id": "5a7dc6e0-5505-4a27-8dbc-f4fb0f16bbf6",
   "metadata": {},
   "source": [
    "In this notebook, Data Science Tools and Ecosystem are summarized"
   ]
  },
  {
   "cell_type": "markdown",
   "id": "fe293868-f12c-41e6-9acc-9b3e70c79537",
   "metadata": {},
   "source": [
    "__Objectives:__\n",
    "* List popular languages for Data Science\n",
    "* List commonly used libraries used by Data Scientists\n",
    "* Demonstrate popular Open Source Data Science Tools available"
   ]
  },
  {
   "cell_type": "markdown",
   "id": "5f5cde81-bc48-475c-ab4f-1a27e248c2f8",
   "metadata": {},
   "source": [
    "Some of the popular languages that Data Scientist use are: \n",
    "1. Python\n",
    "2. R\n",
    "3. Julia"
   ]
  },
  {
   "cell_type": "markdown",
   "id": "4343d1fe-ec46-4965-aa62-89a9a63dedae",
   "metadata": {},
   "source": [
    "Some of the commonly used libraries used by Data Scientist include:\n",
    "1. NumPy\n",
    "2. Matplotlib\n",
    "3. Pandas\n",
    "4. Plotly\n",
    "5. TensorFlow"
   ]
  },
  {
   "cell_type": "markdown",
   "id": "ab8212d3-1364-41ed-a66c-367ebd55060a",
   "metadata": {},
   "source": [
    "|Data Science Tools|\n",
    "|---|\n",
    "Jupyter Notebook\n",
    "RStudio\n",
    "Apache Spark"
   ]
  },
  {
   "cell_type": "markdown",
   "id": "d83d3320-9e25-468a-9842-48315526c84f",
   "metadata": {},
   "source": [
    "### Below are a few examples of evaluating arithmetic expression in Python"
   ]
  },
  {
   "cell_type": "code",
   "execution_count": 13,
   "id": "737c4b37-151e-4d53-8107-bd977adf72af",
   "metadata": {},
   "outputs": [
    {
     "name": "stdout",
     "output_type": "stream",
     "text": [
      "17\n"
     ]
    }
   ],
   "source": [
    "#This is a simple arithmetic expression to multiply and add integers\n",
    "print((3*4)+5)"
   ]
  },
  {
   "cell_type": "code",
   "execution_count": 15,
   "id": "81a12720-7d79-40bc-a938-5e021d5bd27a",
   "metadata": {},
   "outputs": [
    {
     "name": "stdout",
     "output_type": "stream",
     "text": [
      "3.3333333333333335\n"
     ]
    }
   ],
   "source": [
    "minutes = 200\n",
    "\n",
    "#this will convert 200 minutes to hours by dividing by 60\n",
    "hours = 200/60\n",
    "\n",
    "print(hours)"
   ]
  },
  {
   "cell_type": "markdown",
   "id": "7fe86a27-2bdd-4e7a-966b-049beed11688",
   "metadata": {},
   "source": [
    "## Author\n",
    "Glenn S. Rivera Morales\n"
   ]
  },
  {
   "cell_type": "code",
   "execution_count": null,
   "id": "ca17c765-c713-4e84-a237-7be2f0360e6a",
   "metadata": {},
   "outputs": [],
   "source": []
  }
 ],
 "metadata": {
  "kernelspec": {
   "display_name": "Python 3 (ipykernel)",
   "language": "python",
   "name": "python3"
  },
  "language_info": {
   "codemirror_mode": {
    "name": "ipython",
    "version": 3
   },
   "file_extension": ".py",
   "mimetype": "text/x-python",
   "name": "python",
   "nbconvert_exporter": "python",
   "pygments_lexer": "ipython3",
   "version": "3.12.4"
  }
 },
 "nbformat": 4,
 "nbformat_minor": 5
}
